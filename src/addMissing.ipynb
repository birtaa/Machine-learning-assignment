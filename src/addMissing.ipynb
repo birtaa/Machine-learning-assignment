{
 "cells": [
  {
   "cell_type": "code",
   "execution_count": 1,
   "metadata": {},
   "outputs": [],
   "source": [
    "import pandas as pd"
   ]
  },
  {
   "cell_type": "code",
   "execution_count": 2,
   "metadata": {},
   "outputs": [
    {
     "name": "stderr",
     "output_type": "stream",
     "text": [
      "<>:1: SyntaxWarning: invalid escape sequence '\\g'\n",
      "<>:1: SyntaxWarning: invalid escape sequence '\\g'\n",
      "C:\\Users\\mehme\\AppData\\Local\\Temp\\ipykernel_6444\\4294311938.py:1: SyntaxWarning: invalid escape sequence '\\g'\n",
      "  df = pd.read_csv('D:\\gitClones\\Machine-learning-assignment\\data\\WineQT.csv')\n"
     ]
    }
   ],
   "source": [
    "df = pd.read_csv('D:\\gitClones\\Machine-learning-assignment\\data\\WineQT.csv')"
   ]
  },
  {
   "cell_type": "code",
   "execution_count": 3,
   "metadata": {},
   "outputs": [
    {
     "name": "stdout",
     "output_type": "stream",
     "text": [
      "\n",
      "Eksik veri sayısı:\n",
      "fixed acidity           6\n",
      "volatile acidity        4\n",
      "citric acid             2\n",
      "residual sugar          8\n",
      "chlorides               6\n",
      "free sulfur dioxide     2\n",
      "total sulfur dioxide    5\n",
      "density                 2\n",
      "pH                      2\n",
      "sulphates               4\n",
      "alcohol                 3\n",
      "quality                 0\n",
      "Id                      0\n",
      "dtype: int64\n"
     ]
    }
   ],
   "source": [
    "import numpy as np\n",
    "np.random.seed(42) \n",
    "missing_rate = 0.003  \n",
    "n_missing = int(np.floor(missing_rate * df.size))\n",
    "\n",
    "columns = df.columns.difference(['quality', \"Id\"])\n",
    "\n",
    "missing_indices = [(np.random.choice(df.index), np.random.choice(columns)) for _ in range(n_missing)]\n",
    "\n",
    "for row, col in missing_indices:\n",
    "    df.at[row, col] = np.nan\n",
    "\n",
    "print(\"\\nEksik veri sayısı:\")\n",
    "print(df.isnull().sum())"
   ]
  },
  {
   "cell_type": "code",
   "execution_count": 4,
   "metadata": {},
   "outputs": [
    {
     "name": "stderr",
     "output_type": "stream",
     "text": [
      "<>:1: SyntaxWarning: invalid escape sequence '\\g'\n",
      "<>:1: SyntaxWarning: invalid escape sequence '\\g'\n",
      "C:\\Users\\mehme\\AppData\\Local\\Temp\\ipykernel_6444\\2041236698.py:1: SyntaxWarning: invalid escape sequence '\\g'\n",
      "  df.to_csv('D:\\gitClones\\Machine-learning-assignment\\data\\WineQT_missing.csv', index=False)\n"
     ]
    }
   ],
   "source": [
    "df.to_csv('D:\\gitClones\\Machine-learning-assignment\\data\\WineQT_missing.csv', index=False)"
   ]
  },
  {
   "cell_type": "code",
   "execution_count": 5,
   "metadata": {},
   "outputs": [
    {
     "name": "stderr",
     "output_type": "stream",
     "text": [
      "<>:1: SyntaxWarning: invalid escape sequence '\\g'\n",
      "<>:1: SyntaxWarning: invalid escape sequence '\\g'\n",
      "C:\\Users\\mehme\\AppData\\Local\\Temp\\ipykernel_6444\\660191438.py:1: SyntaxWarning: invalid escape sequence '\\g'\n",
      "  df2 = pd.read_csv('D:\\gitClones\\Machine-learning-assignment\\data\\WineQT_missing.csv')\n"
     ]
    }
   ],
   "source": [
    "df2 = pd.read_csv('D:\\gitClones\\Machine-learning-assignment\\data\\WineQT_missing.csv')"
   ]
  },
  {
   "cell_type": "code",
   "execution_count": 6,
   "metadata": {},
   "outputs": [
    {
     "data": {
      "text/plain": [
       "fixed acidity           6\n",
       "volatile acidity        4\n",
       "citric acid             2\n",
       "residual sugar          8\n",
       "chlorides               6\n",
       "free sulfur dioxide     2\n",
       "total sulfur dioxide    5\n",
       "density                 2\n",
       "pH                      2\n",
       "sulphates               4\n",
       "alcohol                 3\n",
       "quality                 0\n",
       "Id                      0\n",
       "dtype: int64"
      ]
     },
     "execution_count": 6,
     "metadata": {},
     "output_type": "execute_result"
    }
   ],
   "source": [
    "df2.isnull().sum()"
   ]
  },
  {
   "cell_type": "code",
   "execution_count": null,
   "metadata": {},
   "outputs": [],
   "source": []
  }
 ],
 "metadata": {
  "kernelspec": {
   "display_name": "base",
   "language": "python",
   "name": "python3"
  },
  "language_info": {
   "codemirror_mode": {
    "name": "ipython",
    "version": 3
   },
   "file_extension": ".py",
   "mimetype": "text/x-python",
   "name": "python",
   "nbconvert_exporter": "python",
   "pygments_lexer": "ipython3",
   "version": "3.12.4"
  }
 },
 "nbformat": 4,
 "nbformat_minor": 2
}
